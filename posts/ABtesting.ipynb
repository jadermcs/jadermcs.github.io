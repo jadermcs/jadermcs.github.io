{
 "cells": [
  {
   "cell_type": "markdown",
   "metadata": {},
   "source": [
    "---\n",
    "layout: post\n",
    "title: Stacked Generalization\n",
    "lang: pt\n",
    "date: 2019-04-22 12:59:07\n",
    "tags: [ab, testing, hypothesis, bootstraping]\n",
    "author: Jader Martins\n",
    "comments: true\n",
    "---"
   ]
  },
  {
   "cell_type": "markdown",
   "metadata": {},
   "source": [
    "Com uma gama de cursos centrados apenas em modelagem, uma das habilidades de um data scientist que muitas vezes é negligenciada é o teste de hipótese. Teste de hipótese é um procedimento estatístico comparativo, para avaliar se duas ou mais hipoteses tem significancia estatistica, utilizando os dados observados de um experimento. Existem diversas metodologias e arcabouços quanto a testes de hipotese, nesta publicação iremos tratar especificamente do teste A/B."
   ]
  },
  {
   "cell_type": "markdown",
   "metadata": {},
   "source": [
    "Teste A/B é um experimento aleatorizado com dois variantes, A e B. Ele inclui o \"teste de hipotese biamostral\" comum no campo de estatistica, esse teste é uma forma de comparar duas versões de um prototipo com variação em apenas uma variável e determinar qual é mais efetiva para uma metrica estabelecida."
   ]
  },
  {
   "cell_type": "markdown",
   "metadata": {},
   "source": [
    "$$\n",
    "H_0 : \\mu \\le 70\\\\\n",
    "H_1 : \\mu \\gt 70\n",
    "$$"
   ]
  },
  {
   "cell_type": "code",
   "execution_count": null,
   "metadata": {},
   "outputs": [],
   "source": []
  }
 ],
 "metadata": {
  "kernelspec": {
   "display_name": "Python 3",
   "language": "python",
   "name": "python3"
  },
  "language_info": {
   "codemirror_mode": {
    "name": "ipython",
    "version": 3
   },
   "file_extension": ".py",
   "mimetype": "text/x-python",
   "name": "python",
   "nbconvert_exporter": "python",
   "pygments_lexer": "ipython3",
   "version": "3.7.3"
  }
 },
 "nbformat": 4,
 "nbformat_minor": 2
}
